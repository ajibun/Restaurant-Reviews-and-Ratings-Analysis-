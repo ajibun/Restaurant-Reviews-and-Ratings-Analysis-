{
 "cells": [
  {
   "cell_type": "code",
   "execution_count": 6,
   "id": "5ee6d858",
   "metadata": {},
   "outputs": [
    {
     "name": "stdout",
     "output_type": "stream",
     "text": [
      "{'html_attributions': [], 'next_page_token': 'AXCi2Q50Lc7_n8FpgVc87joUKZAOYiIWDvvEKk_d0HIzi28GpOpgt3gG8sTceX6dyF8P1ZWiBGZE5EXPT8mTFUsCCTeqgL7PX7EXFnNPHXIFSWdP3wT5msx6VqUingNgMyPe8uNsll3NYQdCFdlcGnQ9IpwajiNpRdf8n-PU2Z3GHkGCSJaLcotsLWMU1_ezGiqycdIe1LUymVTroqfzigbcHqvBUdKYfGYqtzx0Nu1oXf-PVL36kFbrBuL_1DKdw2WrO2_-wlgXu-JQNq2LWDGsC9lCWgGN86xfPNfLNFO1-f3ROhzvP4DnmeUQ97R3NK3yBQpXynzbTr4hj-a1jyX365FB62-aHQiITW2XIV-WvH_CfvXm16Z58pmu-rUYqxVolG0TVgzyPs_ov9UmN2IJVbD3eNe_8ous6k0aSodb9m5Juoi4ay7N2ib5Dkoq', 'results': [{'business_status': 'OPERATIONAL', 'geometry': {'location': {'lat': 30.2672274, 'lng': -97.7403144}, 'viewport': {'northeast': {'lat': 30.2686376802915, 'lng': -97.73894421970849}, 'southwest': {'lat': 30.2659397197085, 'lng': -97.7416421802915}}}, 'icon': 'https://maps.gstatic.com/mapfiles/place_api/icons/v1/png_71/restaurant-71.png', 'icon_background_color': '#FF9E67', 'icon_mask_base_uri': 'https://maps.gstatic.com/mapfiles/place_api/icons/v2/restaurant_pinlet', 'name': 'Parkside', 'opening_hours': {'open_now': False}, 'photos': [{'height': 3024, 'html_attributions': ['<a href=\"https://maps.google.com/maps/contrib/108675156940187436250\">Aromatherapy Depot By Carolina Whitmore</a>'], 'photo_reference': 'AXCi2Q7JiRuq6eU41NkcLnZ-9NvGAPWdzj66ZQyJg_LpgAwbIKSLPVyu_dcI2FgT8gj7IldUDJlT0Rk5Cjnyzdc8eei9wgTPLw-7REhluV3TYikyusCLldHoE8szSj8FoQea3AQg6stH55PeC0VqogWgEW5Pb6LXTClQ-ywHdAMkkYuQuNYv', 'width': 4032}], 'place_id': 'ChIJrQKrmKe1RIYRPghJQoExXJM', 'plus_code': {'compound_code': '7785+VV Austin, TX, USA', 'global_code': '86247785+VV'}, 'price_level': 2, 'rating': 4, 'reference': 'ChIJrQKrmKe1RIYRPghJQoExXJM', 'scope': 'GOOGLE', 'types': ['bar', 'restaurant', 'point_of_interest', 'food', 'establishment'], 'user_ratings_total': 822, 'vicinity': '301 East 6th Street, Austin'}, {'business_status': 'OPERATIONAL', 'geometry': {'location': {'lat': 30.2691083, 'lng': -97.7421111}, 'viewport': {'northeast': {'lat': 30.27049738029149, 'lng': -97.7409032697085}, 'southwest': {'lat': 30.2677994197085, 'lng': -97.74360123029152}}}, 'icon': 'https://maps.gstatic.com/mapfiles/place_api/icons/v1/png_71/restaurant-71.png', 'icon_background_color': '#FF9E67', 'icon_mask_base_uri': 'https://maps.gstatic.com/mapfiles/place_api/icons/v2/restaurant_pinlet', 'name': 'Roaring Fork', 'opening_hours': {'open_now': True}, 'photos': [{'height': 1355, 'html_attributions': ['<a href=\"https://maps.google.com/maps/contrib/101229690246963653613\">Roaring Fork</a>'], 'photo_reference': 'AXCi2Q629X1iLS1iL8indpfvL4NgbBKNRbs1US_pOsmSXzmb5jttJNvpDC8q0AA2VgzwalwrNXobuFGu1Co9J-aZAHQSAlFntfldbGJsT1twrJGHpVi_T-F0ZBhwp5rmBiAyrfUaUXtFazTXuneP-mDQ5UXJSK_XKRq8zY3K4GDtfargi_PU', 'width': 2052}], 'place_id': 'ChIJ1XlZ4Qm1RIYR4rpevy6Ybs4', 'plus_code': {'compound_code': '7795+J5 Austin, TX, USA', 'global_code': '86247795+J5'}, 'price_level': 3, 'rating': 4.4, 'reference': 'ChIJ1XlZ4Qm1RIYR4rpevy6Ybs4', 'scope': 'GOOGLE', 'types': ['restaurant', 'point_of_interest', 'food', 'establishment'], 'user_ratings_total': 1882, 'vicinity': '701 Congress Avenue, Austin'}, {'business_status': 'OPERATIONAL', 'geometry': {'location': {'lat': 30.2651679, 'lng': -97.7463598}, 'viewport': {'northeast': {'lat': 30.26640278029149, 'lng': -97.7450303697085}, 'southwest': {'lat': 30.2637048197085, 'lng': -97.74772833029152}}}, 'icon': 'https://maps.gstatic.com/mapfiles/place_api/icons/v1/png_71/restaurant-71.png', 'icon_background_color': '#FF9E67', 'icon_mask_base_uri': 'https://maps.gstatic.com/mapfiles/place_api/icons/v2/restaurant_pinlet', 'name': 'Taverna Austin', 'opening_hours': {'open_now': True}, 'photos': [{'height': 1365, 'html_attributions': ['<a href=\"https://maps.google.com/maps/contrib/116530490821640336832\">Taverna Austin</a>'], 'photo_reference': 'AXCi2Q7rT_9yCfYn50Y_nCidQV_unp-wdsjVMcdM8npl0jKQlbixtBjA8zX3yrowNC-5REQtOPLTtSaitmxhcaIAjQWz_hY57n30_ksxyfY1I5iRqIo3ICIo36FgE-h2-keAWT8z_8vXbo15O4WQUnv65vH3pfZ4uHItbW76w77mY84vvyD9', 'width': 2048}], 'place_id': 'ChIJMazVpAi1RIYRjhmcLjSvho8', 'plus_code': {'compound_code': '7783+3F Austin, TX, USA', 'global_code': '86247783+3F'}, 'price_level': 3, 'rating': 4.2, 'reference': 'ChIJMazVpAi1RIYRjhmcLjSvho8', 'scope': 'GOOGLE', 'types': ['restaurant', 'point_of_interest', 'food', 'establishment'], 'user_ratings_total': 1455, 'vicinity': '258 West 2nd Street, Austin'}, {'business_status': 'OPERATIONAL', 'geometry': {'location': {'lat': 30.267401, 'lng': -97.73944519999999}, 'viewport': {'northeast': {'lat': 30.2686282302915, 'lng': -97.7381582197085}, 'southwest': {'lat': 30.26593026970851, 'lng': -97.7408561802915}}}, 'icon': 'https://maps.gstatic.com/mapfiles/place_api/icons/v1/png_71/restaurant-71.png', 'icon_background_color': '#FF9E67', 'icon_mask_base_uri': 'https://maps.gstatic.com/mapfiles/place_api/icons/v2/restaurant_pinlet', 'name': 'Iron Cactus Mexican Restaurant and Margarita Bar', 'opening_hours': {'open_now': True}, 'photos': [{'height': 3024, 'html_attributions': ['<a href=\"https://maps.google.com/maps/contrib/105751210893996588870\">Kristen Chatfield</a>'], 'photo_reference': 'AXCi2Q5H5Y8aAIZ-obYQPPvxUmEqhHEGwSmsMw22LFQwfDa8J2ke0fB29Rvhto3MYLgX8EMNRKb83kDJSg5fWCz3eMhtvyQrG9OPkwQv2yBe90Xy4T9GG7N32pHDej7vMZSHjvvdL6Z5sDu4cHW5jMGgWT7Im0M2hjTNQKiREoxXVYfBBz5T', 'width': 4032}], 'place_id': 'ChIJwYlSqae1RIYRyqQConsdnyc', 'plus_code': {'compound_code': '7786+X6 Austin, TX, USA', 'global_code': '86247786+X6'}, 'price_level': 2, 'rating': 4.1, 'reference': 'ChIJwYlSqae1RIYRyqQConsdnyc', 'scope': 'GOOGLE', 'types': ['restaurant', 'point_of_interest', 'food', 'establishment'], 'user_ratings_total': 3808, 'vicinity': '606 Trinity Street, Austin'}, {'business_status': 'OPERATIONAL', 'geometry': {'location': {'lat': 30.2659685, 'lng': -97.74531999999999}, 'viewport': {'northeast': {'lat': 30.26732768029149, 'lng': -97.74385486970849}, 'southwest': {'lat': 30.26462971970849, 'lng': -97.7465528302915}}}, 'icon': 'https://maps.gstatic.com/mapfiles/place_api/icons/v1/png_71/restaurant-71.png', 'icon_background_color': '#FF9E67', 'icon_mask_base_uri': 'https://maps.gstatic.com/mapfiles/place_api/icons/v2/restaurant_pinlet', 'name': \"Truluck's Ocean's Finest Seafood & Crab\", 'opening_hours': {'open_now': False}, 'photos': [{'height': 4305, 'html_attributions': ['<a href=\"https://maps.google.com/maps/contrib/111338988089049697220\">Truluck&#39;s Ocean&#39;s Finest Seafood &amp; Crab</a>'], 'photo_reference': 'AXCi2Q749Qqof_fBq0r5EJbosagGtiwpN-wTiLuYh-ek2qff0tpxdL-swk05_kbcrDuhoCBl8TNIYjwT060BzIzG_bytwTsf-EQyokMxY7o6B2-SlqMYs92AxJuYqniwG0TVHwFluPXwq_gU9xRIbl4p6_DS4Ngyyelf-08yzMR2N4PGmH90', 'width': 7665}], 'place_id': 'ChIJ5e4J-wi1RIYR0VuNKIr8jbs', 'plus_code': {'compound_code': '7783+9V Austin, TX, USA', 'global_code': '86247783+9V'}, 'price_level': 4, 'rating': 4.7, 'reference': 'ChIJ5e4J-wi1RIYR0VuNKIr8jbs', 'scope': 'GOOGLE', 'types': ['bar', 'restaurant', 'point_of_interest', 'food', 'establishment'], 'user_ratings_total': 1703, 'vicinity': '300 Colorado Street, Austin'}, {'business_status': 'OPERATIONAL', 'geometry': {'location': {'lat': 30.2639774, 'lng': -97.7418824}, 'viewport': {'northeast': {'lat': 30.2651780302915, 'lng': -97.74057286970849}, 'southwest': {'lat': 30.2624800697085, 'lng': -97.74327083029151}}}, 'icon': 'https://maps.gstatic.com/mapfiles/place_api/icons/v1/png_71/restaurant-71.png', 'icon_background_color': '#FF9E67', 'icon_mask_base_uri': 'https://maps.gstatic.com/mapfiles/place_api/icons/v2/restaurant_pinlet', 'name': 'Le Café Crêpe', 'opening_hours': {'open_now': True}, 'photos': [{'height': 3024, 'html_attributions': ['<a href=\"https://maps.google.com/maps/contrib/113773543553780380018\">michelle croom</a>'], 'photo_reference': 'AXCi2Q7xf088tP_MaVqIUd0kwhhhoLWxccpsaBwAnic5Z4zuHbBTkToPWBlZjsBeG7GUQbtJMtSf8VxExq8HevaNGX0h2jgL_ojM0NtrSOytjp9OtDywDCHpMMDQc7v6ybkehIHXpa4OwFhf28UDLzvQEGN5sF0Z2EOo4G03qC1Xv_xP78IQ', 'width': 4032}], 'place_id': 'ChIJ72if-Qe1RIYRab0ZcGKtNZg', 'plus_code': {'compound_code': '7775+H6 Austin, TX, USA', 'global_code': '86247775+H6'}, 'price_level': 2, 'rating': 4.4, 'reference': 'ChIJ72if-Qe1RIYRab0ZcGKtNZg', 'scope': 'GOOGLE', 'types': ['restaurant', 'point_of_interest', 'food', 'establishment'], 'user_ratings_total': 1539, 'vicinity': '200 San Jacinto Boulevard, Austin'}, {'business_status': 'OPERATIONAL', 'geometry': {'location': {'lat': 30.264824, 'lng': -97.744512}, 'viewport': {'northeast': {'lat': 30.2661100802915, 'lng': -97.7429435197085}, 'southwest': {'lat': 30.2634121197085, 'lng': -97.74564148029151}}}, 'icon': 'https://maps.gstatic.com/mapfiles/place_api/icons/v1/png_71/restaurant-71.png', 'icon_background_color': '#FF9E67', 'icon_mask_base_uri': 'https://maps.gstatic.com/mapfiles/place_api/icons/v2/restaurant_pinlet', 'name': 'Fogo De Chao - Austin', 'opening_hours': {'open_now': True}, 'photos': [{'height': 288, 'html_attributions': ['<a href=\"https://maps.google.com/maps/contrib/102570306192900608534\">Fogo De Chao - Austin</a>'], 'photo_reference': 'AXCi2Q7_eKaVNFXvbR8EHs28pAz_H-QlPZNnMFrLhaRcriBF8attIjxjViNVs-LUCRGdri3rpfn1qB4s8Jc921orDHrs1ui-vVXdF8u0le-dvIISxQToE_ZG0LY9o1n1ChqhmvebuyweLc_zF0MSw8xPZLA9ktCDi0GWJ71KeeJG3clgAdGM', 'width': 512}], 'place_id': 'ChIJ7_1MCai1RIYRsFrrp7OT0zI', 'plus_code': {'compound_code': '7774+W5 Austin, TX, USA', 'global_code': '86247774+W5'}, 'price_level': 3, 'rating': 4.6, 'reference': 'ChIJ7_1MCai1RIYRsFrrp7OT0zI', 'scope': 'GOOGLE', 'types': ['restaurant', 'point_of_interest', 'food', 'establishment'], 'user_ratings_total': 5896, 'vicinity': '200 Congress Avenue, Austin'}, {'business_status': 'OPERATIONAL', 'geometry': {'location': {'lat': 30.2656345, 'lng': -97.7433776}, 'viewport': {'northeast': {'lat': 30.2670180302915, 'lng': -97.74218491970849}, 'southwest': {'lat': 30.2643200697085, 'lng': -97.7448828802915}}}, 'icon': 'https://maps.gstatic.com/mapfiles/place_api/icons/v1/png_71/restaurant-71.png', 'icon_background_color': '#FF9E67', 'icon_mask_base_uri': 'https://maps.gstatic.com/mapfiles/place_api/icons/v2/restaurant_pinlet', 'name': \"Swift's Attic\", 'opening_hours': {'open_now': False}, 'photos': [{'height': 360, 'html_attributions': ['<a href=\"https://maps.google.com/maps/contrib/109042559780538944511\">Swift&#39;s Attic</a>'], 'photo_reference': 'AXCi2Q5-5FsJc6nCXWqc0pUDw8QWAg3baYWEBT-R4g9lYFREWH442-WLl5Q4DdpWY-tPv8eBiP5tvGjiHbf7qh48WUM33GTLgFdaDGcGzyMwOdG5FS8rhyRMx_GmIJzbhX-jFwgIOxGSzhDHCOcQyozyXnpLQROZGlIUk20XbeBSCl3cvjgw', 'width': 640}], 'place_id': 'ChIJOZxxaAi1RIYRe3j7KpIprWo', 'plus_code': {'compound_code': '7784+7J Austin, TX, USA', 'global_code': '86247784+7J'}, 'price_level': 2, 'rating': 4.5, 'reference': 'ChIJOZxxaAi1RIYRe3j7KpIprWo', 'scope': 'GOOGLE', 'types': ['bar', 'restaurant', 'point_of_interest', 'food', 'establishment'], 'user_ratings_total': 1252, 'vicinity': '315 Congress Avenue, Austin'}, {'business_status': 'OPERATIONAL', 'geometry': {'location': {'lat': 30.2669598, 'lng': -97.7456922}, 'viewport': {'northeast': {'lat': 30.2682411802915, 'lng': -97.7443988197085}, 'southwest': {'lat': 30.2655432197085, 'lng': -97.7470967802915}}}, 'icon': 'https://maps.gstatic.com/mapfiles/place_api/icons/v1/png_71/cafe-71.png', 'icon_background_color': '#FF9E67', 'icon_mask_base_uri': 'https://maps.gstatic.com/mapfiles/place_api/icons/v2/cafe_pinlet', 'name': 'Halcyon', 'opening_hours': {'open_now': True}, 'photos': [{'height': 1669, 'html_attributions': ['<a href=\"https://maps.google.com/maps/contrib/100015636561581645330\">Jim Allen</a>'], 'photo_reference': 'AXCi2Q58qE6PnmSrclLYTHNc49lIyEhImzqOq-Arwk-7qWNrMb8jr-BJzLj_5vV7ZlSqWikRucRgzwoATCsp9bFs_X-TRvl-_hEB8n9HmllAsmqpCCan2FVbODzrhfy9ig8vLD9Sg8X83TTDYfRiNMAaOiqX8uI5N8RkipwiVDBGstCW7MjJ', 'width': 2500}], 'place_id': 'ChIJCRB94Ai1RIYRNvGk25HweQA', 'plus_code': {'compound_code': '7783+QP Austin, TX, USA', 'global_code': '86247783+QP'}, 'price_level': 2, 'rating': 4.3, 'reference': 'ChIJCRB94Ai1RIYRNvGk25HweQA', 'scope': 'GOOGLE', 'types': ['cafe', 'bar', 'restaurant', 'point_of_interest', 'food', 'establishment'], 'user_ratings_total': 1965, 'vicinity': '218 West 4th Street, Austin'}, {'business_status': 'OPERATIONAL', 'geometry': {'location': {'lat': 30.2676675, 'lng': -97.7422928}, 'viewport': {'northeast': {'lat': 30.2691374302915, 'lng': -97.74094676970849}, 'southwest': {'lat': 30.26643946970851, 'lng': -97.74364473029149}}}, 'icon': 'https://maps.gstatic.com/mapfiles/place_api/icons/v1/png_71/restaurant-71.png', 'icon_background_color': '#FF9E67', 'icon_mask_base_uri': 'https://maps.gstatic.com/mapfiles/place_api/icons/v2/restaurant_pinlet', 'name': \"Jimmy John's\", 'opening_hours': {'open_now': True}, 'photos': [{'height': 3024, 'html_attributions': ['<a href=\"https://maps.google.com/maps/contrib/112644645289824959416\">Chase Carmichael</a>'], 'photo_reference': 'AXCi2Q4KVNoxFsjEvwPX8-ca0TrySAY6zrSalZ26TTcm4XBWWf9NRzEQfmXYkaQ-HywpDWHWi3EipxHoGZn_Io-5O1ApZZp-qU_eRriCRItqUSZi5oL-4faa799kYsBOks4FSBairzAhJlwi5iWN_BF-jKjgnw6ZxLq76mykvUUWdmmxclg-', 'width': 4032}], 'place_id': 'ChIJ6YfXzQm1RIYR6TXPOW5Y14g', 'plus_code': {'compound_code': '7795+33 Austin, TX, USA', 'global_code': '86247795+33'}, 'price_level': 1, 'rating': 4, 'reference': 'ChIJ6YfXzQm1RIYR6TXPOW5Y14g', 'scope': 'GOOGLE', 'types': ['meal_takeaway', 'meal_delivery', 'restaurant', 'point_of_interest', 'food', 'establishment'], 'user_ratings_total': 223, 'vicinity': '515 Congress Avenue Suite 1200, Austin'}, {'business_status': 'OPERATIONAL', 'geometry': {'location': {'lat': 30.2680568, 'lng': -97.7434864}, 'viewport': {'northeast': {'lat': 30.2694903802915, 'lng': -97.7421005197085}, 'southwest': {'lat': 30.2667924197085, 'lng': -97.74479848029151}}}, 'icon': 'https://maps.gstatic.com/mapfiles/place_api/icons/v1/png_71/restaurant-71.png', 'icon_background_color': '#FF9E67', 'icon_mask_base_uri': 'https://maps.gstatic.com/mapfiles/place_api/icons/v2/restaurant_pinlet', 'name': \"Ruth's Chris Steak House\", 'opening_hours': {'open_now': False}, 'photos': [{'height': 532, 'html_attributions': ['<a href=\"https://maps.google.com/maps/contrib/105733327358486068295\">Bernard Hunt</a>'], 'photo_reference': 'AXCi2Q7ecLplofYSUWoQvwpZe9mP9lF2pp-h6ccOrF6VGue1FJF8wrGOlCi0e8dJm7lUOTIsQISmIPoeUAOi_IjnOxv_BKHVN5RGaSXrBbb5xZjj1YaOZJ6KO8ruFSyWPAACLWgnJgqLMwOY6KPpVZUO_kcMHH4YA0HAVw40wU6DboE6mhtj', 'width': 946}], 'place_id': 'ChIJWQDHxwm1RIYRJmu_M83GQlI', 'plus_code': {'compound_code': '7794+6J Austin, TX, USA', 'global_code': '86247794+6J'}, 'price_level': 4, 'rating': 4.4, 'reference': 'ChIJWQDHxwm1RIYRJmu_M83GQlI', 'scope': 'GOOGLE', 'types': ['restaurant', 'point_of_interest', 'food', 'establishment'], 'user_ratings_total': 1306, 'vicinity': '107 West 6th Street, Austin'}, {'business_status': 'OPERATIONAL', 'geometry': {'location': {'lat': 30.26378169999999, 'lng': -97.7414131}, 'viewport': {'northeast': {'lat': 30.2650908802915, 'lng': -97.74022496970849}, 'southwest': {'lat': 30.2623929197085, 'lng': -97.74292293029151}}}, 'icon': 'https://maps.gstatic.com/mapfiles/place_api/icons/v1/png_71/restaurant-71.png', 'icon_background_color': '#FF9E67', 'icon_mask_base_uri': 'https://maps.gstatic.com/mapfiles/place_api/icons/v2/restaurant_pinlet', 'name': \"P.F. Chang's\", 'opening_hours': {'open_now': True}, 'photos': [{'height': 1280, 'html_attributions': ['<a href=\"https://maps.google.com/maps/contrib/106450667014169262133\">P.F. Chang&#39;s</a>'], 'photo_reference': 'AXCi2Q4eRtLpFEyzoaaN_dbcz_ySZ5mvvPY9TXDW0rvdzhNCHbK3w5RW27N76Gn7FC7WjE1k3FMPdP61w31qqmOOMZtm2wOU_YPcNTpw0FPK68a7zkJFSKH7_VapXAVsstJF-t57p-87epyWk21SXxcDeCqwiojw4YkwGw508T97BrElp_qX', 'width': 1920}], 'place_id': 'ChIJF9q49we1RIYRilv3WAdeeQM', 'plus_code': {'compound_code': '7775+GC Austin, TX, USA', 'global_code': '86247775+GC'}, 'price_level': 2, 'rating': 4.2, 'reference': 'ChIJF9q49we1RIYRilv3WAdeeQM', 'scope': 'GOOGLE', 'types': ['meal_takeaway', 'meal_delivery', 'restaurant', 'point_of_interest', 'food', 'establishment'], 'user_ratings_total': 2234, 'vicinity': '201 San Jacinto Boulevard, Austin'}, {'business_status': 'OPERATIONAL', 'geometry': {'location': {'lat': 30.2674106, 'lng': -97.73969849999999}, 'viewport': {'northeast': {'lat': 30.26865648029149, 'lng': -97.73839756970848}, 'southwest': {'lat': 30.2659585197085, 'lng': -97.7410955302915}}}, 'icon': 'https://maps.gstatic.com/mapfiles/place_api/icons/v1/png_71/restaurant-71.png', 'icon_background_color': '#FF9E67', 'icon_mask_base_uri': 'https://maps.gstatic.com/mapfiles/place_api/icons/v2/restaurant_pinlet', 'name': 'Roppolo’s Pizzeria', 'opening_hours': {'open_now': False}, 'photos': [{'height': 3008, 'html_attributions': ['<a href=\"https://maps.google.com/maps/contrib/118331493182169370695\">Roppolo’s Pizzeria</a>'], 'photo_reference': 'AXCi2Q557TdVfPRHkxYRzqaDceluqulhkO9KHW6LP0hcMUZx7798r7slwtpw3MK_LHYNoII7dduxfuJPNiWuVr0HHGznI8wEyMhHPuPUxfVYbdLmyETnIyWJxGuGJHeCYaTVu1SxHJ_Wg6ZvH8HpeFIZJW7MpRCVjeH3CWm_6BIkukVHBms6', 'width': 4512}], 'place_id': 'ChIJ3VsBCKe1RIYR6m0AkfrsVcc', 'plus_code': {'compound_code': '7786+X4 Austin, TX, USA', 'global_code': '86247786+X4'}, 'price_level': 1, 'rating': 4.2, 'reference': 'ChIJ3VsBCKe1RIYR6m0AkfrsVcc', 'scope': 'GOOGLE', 'types': ['meal_takeaway', 'meal_delivery', 'restaurant', 'point_of_interest', 'food', 'establishment'], 'user_ratings_total': 1022, 'vicinity': '316 East 6th Street, Austin'}, {'business_status': 'OPERATIONAL', 'geometry': {'location': {'lat': 30.265017, 'lng': -97.746089}, 'viewport': {'northeast': {'lat': 30.2662928302915, 'lng': -97.74475961970849}, 'southwest': {'lat': 30.26359486970851, 'lng': -97.7474575802915}}}, 'icon': 'https://maps.gstatic.com/mapfiles/place_api/icons/v1/png_71/cafe-71.png', 'icon_background_color': '#FF9E67', 'icon_mask_base_uri': 'https://maps.gstatic.com/mapfiles/place_api/icons/v2/cafe_pinlet', 'name': \"Jo's Coffee – Downtown\", 'opening_hours': {'open_now': True}, 'photos': [{'height': 2024, 'html_attributions': ['<a href=\"https://maps.google.com/maps/contrib/105649253664394268782\">Favo Novoa</a>'], 'photo_reference': 'AXCi2Q7w0uNjPodHNtTyqNGocwUq3UmKzwt8UGIB5kGVY8edTkARt7lWScu5GYQsA_AT9qQArQu8phhOX8inw7jShGv5eVxEG7iRwy65w1kY92f-Ol8XiZLtHMT4F7vSaMXQsWkAizOuyG-Voa_ONZZ2yEKGjmlz5A64TqVRJNL5veyLG84K', 'width': 4271}], 'place_id': 'ChIJk7GZvAi1RIYRarD04SJiU6k', 'plus_code': {'compound_code': '7783+2H Austin, TX, USA', 'global_code': '86247783+2H'}, 'price_level': 1, 'rating': 4.4, 'reference': 'ChIJk7GZvAi1RIYRarD04SJiU6k', 'scope': 'GOOGLE', 'types': ['cafe', 'meal_takeaway', 'restaurant', 'point_of_interest', 'food', 'store', 'establishment'], 'user_ratings_total': 1240, 'vicinity': '242 West 2nd Street, Austin'}, {'business_status': 'OPERATIONAL', 'geometry': {'location': {'lat': 30.2694225, 'lng': -97.74352689999999}, 'viewport': {'northeast': {'lat': 30.27070593029149, 'lng': -97.7421789197085}, 'southwest': {'lat': 30.2680079697085, 'lng': -97.7448768802915}}}, 'icon': 'https://maps.gstatic.com/mapfiles/place_api/icons/v1/png_71/restaurant-71.png', 'icon_background_color': '#FF9E67', 'icon_mask_base_uri': 'https://maps.gstatic.com/mapfiles/place_api/icons/v2/restaurant_pinlet', 'name': \"Perry's Steakhouse & Grille - Downtown Austin\", 'opening_hours': {'open_now': False}, 'photos': [{'height': 4547, 'html_attributions': ['<a href=\"https://maps.google.com/maps/contrib/100972378961446035500\">Perry&#39;s Steakhouse &amp; Grille - Downtown Austin</a>'], 'photo_reference': 'AXCi2Q4QH8J4xxE8QGBHngzDZYEx4FrdnrGXJVVa3_TZHwaNu2IVewAcEPbKTsVRDOf7utuSvAB_a1OQ8B7PNQ8UNPYVYKZteHky_uAgO7KRoUcAJmBjJXQ2KMC97k-XGyVPFQ3NBl3zPJdeJ68K2-RtIxhsFXpeMOdo5B5Jahv0Zcz9MBRm', 'width': 3744}], 'place_id': 'ChIJz7o2jgm1RIYRi_5Y7JfjH0A', 'plus_code': {'compound_code': '7794+QH Austin, TX, USA', 'global_code': '86247794+QH'}, 'price_level': 3, 'rating': 4.6, 'reference': 'ChIJz7o2jgm1RIYRi_5Y7JfjH0A', 'scope': 'GOOGLE', 'types': ['bar', 'restaurant', 'point_of_interest', 'food', 'establishment'], 'user_ratings_total': 3936, 'vicinity': '114 West 7th Street, Austin'}, {'business_status': 'OPERATIONAL', 'geometry': {'location': {'lat': 30.2641922, 'lng': -97.746646}, 'viewport': {'northeast': {'lat': 30.2656395802915, 'lng': -97.7453847197085}, 'southwest': {'lat': 30.2629416197085, 'lng': -97.74808268029152}}}, 'icon': 'https://maps.gstatic.com/mapfiles/place_api/icons/v1/png_71/restaurant-71.png', 'icon_background_color': '#FF9E67', 'icon_mask_base_uri': 'https://maps.gstatic.com/mapfiles/place_api/icons/v2/restaurant_pinlet', 'name': 'III Forks', 'opening_hours': {'open_now': False}, 'photos': [{'height': 719, 'html_attributions': ['<a href=\"https://maps.google.com/maps/contrib/111914750657185974685\">III Forks</a>'], 'photo_reference': 'AXCi2Q5Ia1otja2S3tVVRIPpbybXresPvD49N3OLknw0KEaoL4VRgCk9L5-3_ekEXwK-zQYfICauuyXBy6r8Z4g8UkxeBP56Wu-my_Go_GueZqCBSdfUqtrVXDWgfznFMI2sC75UxrZeJt9uGbhW_KtsTgCY90wAXyu2AathKI2ioLIyr5Jp', 'width': 1024}], 'place_id': 'ChIJqe38AQa1RIYRh8jExRIRmZc', 'plus_code': {'compound_code': '7773+M8 Austin, TX, USA', 'global_code': '86247773+M8'}, 'price_level': 4, 'rating': 4.6, 'reference': 'ChIJqe38AQa1RIYRh8jExRIRmZc', 'scope': 'GOOGLE', 'types': ['restaurant', 'point_of_interest', 'food', 'establishment'], 'user_ratings_total': 1265, 'vicinity': '111 Lavaca Street, Austin'}, {'business_status': 'OPERATIONAL', 'geometry': {'location': {'lat': 30.2640927, 'lng': -97.7425827}, 'viewport': {'northeast': {'lat': 30.2654352302915, 'lng': -97.7413483197085}, 'southwest': {'lat': 30.2627372697085, 'lng': -97.7440462802915}}}, 'icon': 'https://maps.gstatic.com/mapfiles/place_api/icons/v1/png_71/bar-71.png', 'icon_background_color': '#FF9E67', 'icon_mask_base_uri': 'https://maps.gstatic.com/mapfiles/place_api/icons/v2/bar_pinlet', 'name': 'Cedar Door Patio Bar & Grill', 'opening_hours': {'open_now': False}, 'photos': [{'height': 683, 'html_attributions': ['<a href=\"https://maps.google.com/maps/contrib/113830477028315794295\">Cedar Door Patio Bar &amp; Grill</a>'], 'photo_reference': 'AXCi2Q7yVuIp29nIvipLlHBlmJQCtaNlkilBs-9Lt9ee29qaolZmm4nLt8h54x5t_8qTo-h1v-2yJDTz0sm_Ofs8vreFG4tbZnN_Z76pDURVpq7HUxkr-qqOWnJX0rcY4Z8SWTNYecwULVpreeW40PlQmF9BoRlAtpgr7mLb0m8Y796Bybg', 'width': 1024}], 'place_id': 'ChIJwd-t5ge1RIYRfg8ZQBcWbYE', 'plus_code': {'compound_code': '7774+JX Austin, TX, USA', 'global_code': '86247774+JX'}, 'price_level': 2, 'rating': 4.3, 'reference': 'ChIJwd-t5ge1RIYRfg8ZQBcWbYE', 'scope': 'GOOGLE', 'types': ['bar', 'restaurant', 'point_of_interest', 'food', 'establishment'], 'user_ratings_total': 1476, 'vicinity': '201 Brazos Street bldg A, Austin'}, {'business_status': 'OPERATIONAL', 'geometry': {'location': {'lat': 30.2662488, 'lng': -97.7406292}, 'viewport': {'northeast': {'lat': 30.2676559302915, 'lng': -97.73933796970849}, 'southwest': {'lat': 30.2649579697085, 'lng': -97.74203593029151}}}, 'icon': 'https://maps.gstatic.com/mapfiles/place_api/icons/v1/png_71/restaurant-71.png', 'icon_background_color': '#FF9E67', 'icon_mask_base_uri': 'https://maps.gstatic.com/mapfiles/place_api/icons/v2/restaurant_pinlet', 'name': \"Eddie V's Prime Seafood\", 'opening_hours': {'open_now': False}, 'photos': [{'height': 1080, 'html_attributions': ['<a href=\"https://maps.google.com/maps/contrib/102584955449440662888\">Eddie V&#39;s Prime Seafood</a>'], 'photo_reference': 'AXCi2Q7Vq-MRHo4oWLrZF3W0c6HQz3aCZDxZgMO5NoQNdGnuwl35XjWn-LY5CusZX1NPxqg89rqzuPBTx0kOcGGJt52UFNteCTXXIpZZ7qNvaFJ0ouP9LieNwl2MEsYTwKBmWTuqpz9c-B0P6aOslQQHCW_Un91qAq765acptT0_qr9rpXMt', 'width': 1080}], 'place_id': 'ChIJlZRUkae1RIYRm5oaF2g0dSM', 'plus_code': {'compound_code': '7785+FP Austin, TX, USA', 'global_code': '86247785+FP'}, 'price_level': 4, 'rating': 4.7, 'reference': 'ChIJlZRUkae1RIYRm5oaF2g0dSM', 'scope': 'GOOGLE', 'types': ['night_club', 'bar', 'restaurant', 'point_of_interest', 'food', 'establishment'], 'user_ratings_total': 2397, 'vicinity': '301 East 5th Street, Austin'}, {'business_status': 'OPERATIONAL', 'geometry': {'location': {'lat': 30.26839469999999, 'lng': -97.7447262}, 'viewport': {'northeast': {'lat': 30.2698313802915, 'lng': -97.7433615197085}, 'southwest': {'lat': 30.2671334197085, 'lng': -97.7460594802915}}}, 'icon': 'https://maps.gstatic.com/mapfiles/place_api/icons/v1/png_71/restaurant-71.png', 'icon_background_color': '#FF9E67', 'icon_mask_base_uri': 'https://maps.gstatic.com/mapfiles/place_api/icons/v2/restaurant_pinlet', 'name': 'Thistle Cafe', 'opening_hours': {'open_now': True}, 'photos': [{'height': 3468, 'html_attributions': ['<a href=\"https://maps.google.com/maps/contrib/111071896783520410981\">Carla Scopece</a>'], 'photo_reference': 'AXCi2Q7saXPpGUyVwH5PbmCy0lFlOs5G_YRV4xB1hqdNax91Mx9NYgd25CJOGCbjPyZT8t3laZ4Byaw2bAqFmdOpqr46SvkqJVYeA3iqeRJSea7zQrdfRR6mK95OQVNoV5MSB5NE05v7bTKXQpXPyUzJE5-y9_fjJYpUkUrTa6zvDKkhXnqs', 'width': 4624}], 'place_id': 'ChIJPWLoDgm1RIYRpPm1V3ZiZZg', 'plus_code': {'compound_code': '7794+94 Austin, TX, USA', 'global_code': '86247794+94'}, 'price_level': 2, 'rating': 4.8, 'reference': 'ChIJPWLoDgm1RIYRpPm1V3ZiZZg', 'scope': 'GOOGLE', 'types': ['restaurant', 'cafe', 'point_of_interest', 'food', 'store', 'establishment'], 'user_ratings_total': 172, 'vicinity': '221 West 6th Street Suite b110, Austin'}, {'business_status': 'OPERATIONAL', 'geometry': {'location': {'lat': 30.2641615, 'lng': -97.74144969999999}, 'viewport': {'northeast': {'lat': 30.2655335302915, 'lng': -97.74018051970849}, 'southwest': {'lat': 30.2628355697085, 'lng': -97.7428784802915}}}, 'icon': 'https://maps.gstatic.com/mapfiles/place_api/icons/v1/png_71/restaurant-71.png', 'icon_background_color': '#FF9E67', 'icon_mask_base_uri': 'https://maps.gstatic.com/mapfiles/place_api/icons/v2/restaurant_pinlet', 'name': 'Maiko Sushi Lounge', 'opening_hours': {'open_now': True}, 'photos': [{'height': 3648, 'html_attributions': ['<a href=\"https://maps.google.com/maps/contrib/110008915140494604307\">Maiko Sushi Lounge</a>'], 'photo_reference': 'AXCi2Q4F_qlUmPtcAev2h6E5LAn5IjdQY17h7ZpGAAtLt9syZtI4qglDtleaScogT8rHesFPPml4Uum7qwfKoVZy2RXjggnfRH71C--qTklWi5AqOxDYa7sNvgn4dQHgI_SrycB2SIHIRVrlrp1YQxS1DlejvjuFGk_z7oILVm06hsE1oZQS', 'width': 5472}], 'place_id': 'ChIJoW_YQQm1RIYRje-5l3dxmz0', 'plus_code': {'compound_code': '7775+MC Austin, TX, USA', 'global_code': '86247775+MC'}, 'price_level': 2, 'rating': 4.3, 'reference': 'ChIJoW_YQQm1RIYRje-5l3dxmz0', 'scope': 'GOOGLE', 'types': ['bar', 'restaurant', 'point_of_interest', 'food', 'establishment'], 'user_ratings_total': 1032, 'vicinity': '207 San Jacinto Boulevard Ste 202, Austin'}], 'status': 'OK'}\n",
      "Found 20 restaurants nearby.\n",
      "\n",
      "Restaurant: Parkside\n",
      "Restaurant: Roaring Fork\n",
      "Restaurant: Taverna Austin\n",
      "Restaurant: Iron Cactus Mexican Restaurant and Margarita Bar\n",
      "Restaurant: Truluck's Ocean's Finest Seafood & Crab\n",
      "Restaurant: Le Café Crêpe\n",
      "Restaurant: Fogo De Chao - Austin\n",
      "Restaurant: Swift's Attic\n",
      "Restaurant: Halcyon\n",
      "Restaurant: Jimmy John's\n",
      "Restaurant: Ruth's Chris Steak House\n",
      "Restaurant: P.F. Chang's\n",
      "Restaurant: Roppolo’s Pizzeria\n",
      "Restaurant: Jo's Coffee – Downtown\n",
      "Restaurant: Perry's Steakhouse & Grille - Downtown Austin\n",
      "Restaurant: III Forks\n",
      "Restaurant: Cedar Door Patio Bar & Grill\n",
      "Restaurant: Eddie V's Prime Seafood\n",
      "Restaurant: Thistle Cafe\n",
      "Restaurant: Maiko Sushi Lounge\n"
     ]
    }
   ],
   "source": [
    "import requests\n",
    "\n",
    "# Replace with your Google Places API key\n",
    "API_KEY = 'Your API'\n",
    "\n",
    "# Define the location for Austin, TX (latitude and longitude)\n",
    "location = '30.2672,-97.7431'  # Austin, TX coordinates\n",
    "\n",
    "# Define the radius in meters (increase if needed)\n",
    "radius = 500  # 5000 meters (5 km)\n",
    "\n",
    "# Define the place type (e.g., restaurant)\n",
    "place_type = 'restaurant'\n",
    "\n",
    "# Construct the API URL\n",
    "places_url = f\"https://maps.googleapis.com/maps/api/place/nearbysearch/json?location={location}&radius={radius}&type={place_type}&key={API_KEY}\"\n",
    "\n",
    "# Make the request to Google Places API\n",
    "response = requests.get(places_url)\n",
    "places_data = response.json()\n",
    "\n",
    "# Check if the request was successful\n",
    "if response.status_code == 200:\n",
    "    # Print the response to check for errors or results\n",
    "    print(places_data)\n",
    "    \n",
    "    # If results are found, print the names of restaurants\n",
    "    if 'results' in places_data and places_data['results']:\n",
    "        restaurants = places_data['results']\n",
    "        print(f\"Found {len(restaurants)} restaurants nearby.\\n\")\n",
    "        for restaurant in restaurants:\n",
    "            print(f\"Restaurant: {restaurant['name']}\")\n",
    "    else:\n",
    "        print(\"No restaurants found.\")\n",
    "else:\n",
    "    print(f\"Error in API request. Status Code: {response.status_code}\")"
   ]
  },
  {
   "cell_type": "code",
   "execution_count": 7,
   "id": "538a27b5",
   "metadata": {
    "scrolled": false
   },
   "outputs": [
    {
     "data": {
      "text/plain": [
       "{'business_status': 'OPERATIONAL',\n",
       " 'geometry': {'location': {'lat': 30.2672274, 'lng': -97.7403144},\n",
       "  'viewport': {'northeast': {'lat': 30.2686376802915,\n",
       "    'lng': -97.73894421970849},\n",
       "   'southwest': {'lat': 30.2659397197085, 'lng': -97.7416421802915}}},\n",
       " 'icon': 'https://maps.gstatic.com/mapfiles/place_api/icons/v1/png_71/restaurant-71.png',\n",
       " 'icon_background_color': '#FF9E67',\n",
       " 'icon_mask_base_uri': 'https://maps.gstatic.com/mapfiles/place_api/icons/v2/restaurant_pinlet',\n",
       " 'name': 'Parkside',\n",
       " 'opening_hours': {'open_now': False},\n",
       " 'photos': [{'height': 3024,\n",
       "   'html_attributions': ['<a href=\"https://maps.google.com/maps/contrib/108675156940187436250\">Aromatherapy Depot By Carolina Whitmore</a>'],\n",
       "   'photo_reference': 'AXCi2Q7JiRuq6eU41NkcLnZ-9NvGAPWdzj66ZQyJg_LpgAwbIKSLPVyu_dcI2FgT8gj7IldUDJlT0Rk5Cjnyzdc8eei9wgTPLw-7REhluV3TYikyusCLldHoE8szSj8FoQea3AQg6stH55PeC0VqogWgEW5Pb6LXTClQ-ywHdAMkkYuQuNYv',\n",
       "   'width': 4032}],\n",
       " 'place_id': 'ChIJrQKrmKe1RIYRPghJQoExXJM',\n",
       " 'plus_code': {'compound_code': '7785+VV Austin, TX, USA',\n",
       "  'global_code': '86247785+VV'},\n",
       " 'price_level': 2,\n",
       " 'rating': 4,\n",
       " 'reference': 'ChIJrQKrmKe1RIYRPghJQoExXJM',\n",
       " 'scope': 'GOOGLE',\n",
       " 'types': ['bar', 'restaurant', 'point_of_interest', 'food', 'establishment'],\n",
       " 'user_ratings_total': 822,\n",
       " 'vicinity': '301 East 6th Street, Austin'}"
      ]
     },
     "execution_count": 7,
     "metadata": {},
     "output_type": "execute_result"
    }
   ],
   "source": [
    "{'business_status': 'OPERATIONAL', 'geometry': {'location': {'lat': 30.2672274, 'lng': -97.7403144}, 'viewport': {'northeast': {'lat': 30.2686376802915, 'lng': -97.73894421970849}, 'southwest': {'lat': 30.2659397197085, 'lng': -97.7416421802915}}}, 'icon': 'https://maps.gstatic.com/mapfiles/place_api/icons/v1/png_71/restaurant-71.png', 'icon_background_color': '#FF9E67', 'icon_mask_base_uri': 'https://maps.gstatic.com/mapfiles/place_api/icons/v2/restaurant_pinlet', 'name': 'Parkside', 'opening_hours': {'open_now': False}, 'photos': [{'height': 3024, 'html_attributions': ['<a href=\"https://maps.google.com/maps/contrib/108675156940187436250\">Aromatherapy Depot By Carolina Whitmore</a>'], 'photo_reference': 'AXCi2Q7JiRuq6eU41NkcLnZ-9NvGAPWdzj66ZQyJg_LpgAwbIKSLPVyu_dcI2FgT8gj7IldUDJlT0Rk5Cjnyzdc8eei9wgTPLw-7REhluV3TYikyusCLldHoE8szSj8FoQea3AQg6stH55PeC0VqogWgEW5Pb6LXTClQ-ywHdAMkkYuQuNYv', 'width': 4032}], 'place_id': 'ChIJrQKrmKe1RIYRPghJQoExXJM', 'plus_code': {'compound_code': '7785+VV Austin, TX, USA', 'global_code': '86247785+VV'}, 'price_level': 2, 'rating': 4, 'reference': 'ChIJrQKrmKe1RIYRPghJQoExXJM', 'scope': 'GOOGLE', 'types': ['bar', 'restaurant', 'point_of_interest', 'food', 'establishment'], 'user_ratings_total': 822, 'vicinity': '301 East 6th Street, Austin'}"
   ]
  },
  {
   "cell_type": "code",
   "execution_count": 8,
   "id": "da778a05",
   "metadata": {},
   "outputs": [],
   "source": [
    "# Function to get detailed information (including reviews) about each restaurant\n",
    "def get_place_details(place_id, api_key):\n",
    "    details_url = f\"https://maps.googleapis.com/maps/api/place/details/json?place_id={place_id}&fields=name,rating,review,formatted_address,price_level&key={api_key}\"\n",
    "    response = requests.get(details_url)\n",
    "    if response.status_code == 200:\n",
    "        return response.json().get('result', {})\n",
    "    else:\n",
    "        print(f\"Error fetching details for Place ID {place_id}: {response.status_code}\")\n",
    "        return None"
   ]
  },
  {
   "cell_type": "code",
   "execution_count": 9,
   "id": "9baa3987",
   "metadata": {},
   "outputs": [
    {
     "data": {
      "text/plain": [
       "{'formatted_address': '301 E 6th St, Austin, TX 78701, USA',\n",
       " 'name': 'Parkside',\n",
       " 'price_level': 2,\n",
       " 'rating': 4,\n",
       " 'reviews': [{'author_name': 'Morgan Wright',\n",
       "   'author_url': 'https://www.google.com/maps/contrib/113108804590750338698/reviews',\n",
       "   'language': 'en',\n",
       "   'original_language': 'en',\n",
       "   'profile_photo_url': 'https://lh3.googleusercontent.com/a-/ALV-UjVzh4q_INXSEVwNyCCsdf1uzgGUfXkJgkGwC2msMyfwTfnCMQ=s128-c0x00000000-cc-rp-mo-ba4',\n",
       "   'rating': 5,\n",
       "   'relative_time_description': 'a month ago',\n",
       "   'text': 'A great spot. Food was delicious. We had the bacon cheeseburger, tri tip, butter lettuce salad, and a side of mac n cheese. Anthony took great care of us at the bar! Bonus is the happy hour until 6p on the weekdays!',\n",
       "   'time': 1723683742,\n",
       "   'translated': False},\n",
       "  {'author_name': 'Chrysta Hann',\n",
       "   'author_url': 'https://www.google.com/maps/contrib/112255735487830484218/reviews',\n",
       "   'language': 'en',\n",
       "   'original_language': 'en',\n",
       "   'profile_photo_url': 'https://lh3.googleusercontent.com/a/ACg8ocJ0C0ie1ZOgDZJXyuoMcTPZ6OLAprgLORWjsN7VRGSr55ZNWQ=s128-c0x00000000-cc-rp-mo-ba3',\n",
       "   'rating': 5,\n",
       "   'relative_time_description': '2 months ago',\n",
       "   'text': \"There wasn't a single thing on the menu (from the 10 dishes tried) that we didn't like. Each menu item was done quite well. I really enjoyed the striped bass, Cod, and chocolate dessert the most!\",\n",
       "   'time': 1722265776,\n",
       "   'translated': False},\n",
       "  {'author_name': 'charlie meyer',\n",
       "   'author_url': 'https://www.google.com/maps/contrib/105072020857999373895/reviews',\n",
       "   'language': 'en',\n",
       "   'original_language': 'en',\n",
       "   'profile_photo_url': 'https://lh3.googleusercontent.com/a/ACg8ocIuxmwRgWWlQ9RIYcl9j3D3vZC-J8DrQNtMka1PcbHZYdDxDnKY=s128-c0x00000000-cc-rp-mo-ba5',\n",
       "   'rating': 2,\n",
       "   'relative_time_description': '5 months ago',\n",
       "   'text': 'update spring 2024: since reopening, it isnt the same parkside. The food has gone down in quality quite a bit. In the past, there were multiple oyster types, now its just 1. I ordered a burger medium rare and it came out more than well done. The chicken was stringy and dry. The service was awkward and novice. Everything at parkside has declined since they reopened, except for the prices. I dont know if ill be back, there are better options within blocks for the same money,\\n\\nGood food, great staff, wish they had high chairs for kids',\n",
       "   'time': 1714450447,\n",
       "   'translated': False},\n",
       "  {'author_name': 'Katie Russell',\n",
       "   'author_url': 'https://www.google.com/maps/contrib/105060627506880916148/reviews',\n",
       "   'language': 'en',\n",
       "   'original_language': 'en',\n",
       "   'profile_photo_url': 'https://lh3.googleusercontent.com/a-/ALV-UjVE4wFxW68qUMEMK_1UY2dCBPz6rMk5W7Trd3mV2VMkkrrP8lpl=s128-c0x00000000-cc-rp-mo',\n",
       "   'rating': 5,\n",
       "   'relative_time_description': '10 months ago',\n",
       "   'text': 'We had Parkside cater for our recent anniversary party celebration and the food and drinks were amazing! Our guests really enjoyed both the braised short rib and seared Texas redfish entrees, as well as the delicious passed appetizers to start. The drinks were also excellent, especially our speciality cocktail of sangria. The staff was very attentive and professional as well. Highly recommend Parkside for catering your next party!',\n",
       "   'time': 1701204309,\n",
       "   'translated': False},\n",
       "  {'author_name': 'James Metzler',\n",
       "   'author_url': 'https://www.google.com/maps/contrib/102150813528678852078/reviews',\n",
       "   'language': 'en',\n",
       "   'original_language': 'en',\n",
       "   'profile_photo_url': 'https://lh3.googleusercontent.com/a/ACg8ocJDXPiJmVslxtLDbh5zvFFYe6NQErfRfz0o_dnQgMM5k8XiaQ=s128-c0x00000000-cc-rp-mo',\n",
       "   'rating': 5,\n",
       "   'relative_time_description': 'a month ago',\n",
       "   'text': 'The owner/manager Shaun is a good person. I was handing out waters on a 100+ degree day and he gave me a coupon for drinks. It’s good to see a business owner with integrity and ethic. Drinks were very good.',\n",
       "   'time': 1724194295,\n",
       "   'translated': False}]}"
      ]
     },
     "execution_count": 9,
     "metadata": {},
     "output_type": "execute_result"
    }
   ],
   "source": [
    "get_place_details(\"ChIJrQKrmKe1RIYRPghJQoExXJM\", API_KEY)"
   ]
  },
  {
   "cell_type": "code",
   "execution_count": null,
   "id": "f0c83fae",
   "metadata": {},
   "outputs": [],
   "source": []
  }
 ],
 "metadata": {
  "kernelspec": {
   "display_name": "Python 3 (ipykernel)",
   "language": "python",
   "name": "python3"
  },
  "language_info": {
   "codemirror_mode": {
    "name": "ipython",
    "version": 3
   },
   "file_extension": ".py",
   "mimetype": "text/x-python",
   "name": "python",
   "nbconvert_exporter": "python",
   "pygments_lexer": "ipython3",
   "version": "3.9.13"
  }
 },
 "nbformat": 4,
 "nbformat_minor": 5
}
