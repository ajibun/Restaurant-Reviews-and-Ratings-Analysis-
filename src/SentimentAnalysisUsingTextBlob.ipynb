{
 "cells": [
  {
   "cell_type": "code",
   "execution_count": 1,
   "id": "2a8629ae",
   "metadata": {},
   "outputs": [
    {
     "name": "stdout",
     "output_type": "stream",
     "text": [
      "Defaulting to user installation because normal site-packages is not writeable\n",
      "Requirement already satisfied: textblob in c:\\users\\15735\\appdata\\roaming\\python\\python39\\site-packages (0.18.0.post0)\n",
      "Requirement already satisfied: nltk>=3.8 in c:\\users\\15735\\appdata\\roaming\\python\\python39\\site-packages (from textblob) (3.9.1)\n",
      "Requirement already satisfied: click in c:\\programdata\\anaconda3\\lib\\site-packages (from nltk>=3.8->textblob) (8.0.4)\n",
      "Requirement already satisfied: tqdm in c:\\programdata\\anaconda3\\lib\\site-packages (from nltk>=3.8->textblob) (4.64.1)\n",
      "Requirement already satisfied: joblib in c:\\programdata\\anaconda3\\lib\\site-packages (from nltk>=3.8->textblob) (1.1.0)\n",
      "Requirement already satisfied: regex>=2021.8.3 in c:\\programdata\\anaconda3\\lib\\site-packages (from nltk>=3.8->textblob) (2022.7.9)\n",
      "Requirement already satisfied: colorama in c:\\programdata\\anaconda3\\lib\\site-packages (from click->nltk>=3.8->textblob) (0.4.5)\n"
     ]
    }
   ],
   "source": [
    "!pip install textblob\n"
   ]
  },
  {
   "cell_type": "code",
   "execution_count": 11,
   "id": "8af4f2ed",
   "metadata": {},
   "outputs": [
    {
     "name": "stderr",
     "output_type": "stream",
     "text": [
      "[nltk_data] Downloading package punkt to\n",
      "[nltk_data]     C:\\Users\\15735\\AppData\\Roaming\\nltk_data...\n",
      "[nltk_data]   Package punkt is already up-to-date!\n"
     ]
    }
   ],
   "source": []
  },
  {
   "cell_type": "code",
   "execution_count": 1,
   "id": "350b181b",
   "metadata": {},
   "outputs": [
    {
     "name": "stderr",
     "output_type": "stream",
     "text": [
      "[nltk_data] Downloading package punkt to\n",
      "[nltk_data]     C:\\Users\\15735\\AppData\\Roaming\\nltk_data...\n",
      "[nltk_data]   Package punkt is already up-to-date!\n"
     ]
    },
    {
     "data": {
      "text/plain": [
       "True"
      ]
     },
     "execution_count": 1,
     "metadata": {},
     "output_type": "execute_result"
    }
   ],
   "source": [
    "from textblob import TextBlob\n",
    "import nltk\n",
    "nltk.download('punkt')  # Download necessary resources for TextBlob\n"
   ]
  },
  {
   "cell_type": "code",
   "execution_count": 15,
   "id": "9d5b05be",
   "metadata": {},
   "outputs": [],
   "source": [
    "#Testing whether the TextBlob is working or not.\n",
    "# text = \"The food was great, but the service was terrible.\"\n",
    "# blob = TextBlob(text)\n",
    "# print(blob.sentiment)"
   ]
  },
  {
   "cell_type": "code",
   "execution_count": 2,
   "id": "f6059ef8",
   "metadata": {},
   "outputs": [],
   "source": [
    "import pandas as pd\n",
    "from textblob import TextBlob\n",
    "\n",
    "# Load the cleaned CSV file into a DataFrame\n",
    "csv_file = '../data/cleaned_restaurant_reviews.csv'\n",
    "df = pd.read_csv(csv_file)\n",
    "df.head()\n",
    "\n",
    "#Define a function to analyze sentiment\n",
    "def get_sentiment(text):\n",
    "    analysis = TextBlob(text)\n",
    "    # Return polarity score\n",
    "    return analysis.sentiment.polarity\n",
    "\n",
    "# Apply the function to the 'Review Text' column\n",
    "df['sentiment_score'] = df['Review Text'].apply(get_sentiment)\n",
    "\n",
    "# Classify the sentiment as positive, negative, or neutral\n",
    "def classify_sentiment(score):\n",
    "    if score > 0:\n",
    "        return 'Positive'\n",
    "    elif score < 0:\n",
    "        return 'Negative'\n",
    "    else:\n",
    "        return 'Neutral'\n",
    "\n",
    "# Apply the classification function\n",
    "df['sentiment'] = df['sentiment_score'].apply(classify_sentiment)\n",
    "\n",
    "# Save the updated DataFrame into a new CSV file (optional)\n",
    "df.to_csv('TextBlob_sentiment_analyzed_reviews.csv', index=False)\n",
    "\n",
    "# Preview the updated DataFrame\n",
    "df[['Review Text', 'cleaned_rating', 'sentiment_score', 'sentiment']].head()\n"
   ]
  },
  {
   "cell_type": "code",
   "execution_count": 14,
   "id": "a7400625-f101-49c1-98c1-2667c62c7f94",
   "metadata": {},
   "outputs": [
    {
     "data": {
      "text/plain": [
       "-0.15333333333333332"
      ]
     },
     "execution_count": 14,
     "metadata": {},
     "output_type": "execute_result"
    }
   ],
   "source": [
    "get_sentiment(\"Pizza was very tasty.  Crust was perfectly thin and crispy. Had Jamaican Pizza with chicken and jalapeños, which I could have done with less. No inside seating but does have picnic tables. 18 bucks for a 10 in.. so be ready for that.\")"
   ]
  },
  {
   "cell_type": "code",
   "execution_count": 16,
   "id": "611fbad1-7bc1-4a5c-9bce-b1a67fd12aa6",
   "metadata": {},
   "outputs": [
    {
     "data": {
      "text/plain": [
       "-0.30000000000000004"
      ]
     },
     "execution_count": 16,
     "metadata": {},
     "output_type": "execute_result"
    }
   ],
   "source": [
    "get_sentiment(\"thick\")"
   ]
  },
  {
   "cell_type": "code",
   "execution_count": 17,
   "id": "95c65a35",
   "metadata": {},
   "outputs": [
    {
     "data": {
      "text/plain": [
       "'ate dinner here the other night got the stubbs minor plate with brisket and sausage brisket was a little cold and mostly fat my server was very friendly and knowledgeable as well as the rest of the staff i interacted with wish the food was a little better but ill definitely try this place again'"
      ]
     },
     "execution_count": 17,
     "metadata": {},
     "output_type": "execute_result"
    }
   ],
   "source": [
    "df.iloc[10]['cleaned_review']"
   ]
  },
  {
   "cell_type": "code",
   "execution_count": null,
   "id": "fdea398d",
   "metadata": {},
   "outputs": [],
   "source": []
  }
 ],
 "metadata": {
  "kernelspec": {
   "display_name": "Python 3 (ipykernel)",
   "language": "python",
   "name": "python3"
  },
  "language_info": {
   "codemirror_mode": {
    "name": "ipython",
    "version": 3
   },
   "file_extension": ".py",
   "mimetype": "text/x-python",
   "name": "python",
   "nbconvert_exporter": "python",
   "pygments_lexer": "ipython3",
   "version": "3.9.13"
  }
 },
 "nbformat": 4,
 "nbformat_minor": 5
}
