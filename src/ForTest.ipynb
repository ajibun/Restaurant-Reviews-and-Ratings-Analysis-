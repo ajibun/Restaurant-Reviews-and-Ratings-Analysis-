{
 "cells": [
  {
   "cell_type": "code",
   "execution_count": 3,
   "id": "346f6213",
   "metadata": {},
   "outputs": [
    {
     "data": {
      "text/html": [
       "<div>\n",
       "<style scoped>\n",
       "    .dataframe tbody tr th:only-of-type {\n",
       "        vertical-align: middle;\n",
       "    }\n",
       "\n",
       "    .dataframe tbody tr th {\n",
       "        vertical-align: top;\n",
       "    }\n",
       "\n",
       "    .dataframe thead th {\n",
       "        text-align: right;\n",
       "    }\n",
       "</style>\n",
       "<table border=\"1\" class=\"dataframe\">\n",
       "  <thead>\n",
       "    <tr style=\"text-align: right;\">\n",
       "      <th></th>\n",
       "      <th>Review Text</th>\n",
       "      <th>standardized_date</th>\n",
       "      <th>cleaned_rating</th>\n",
       "      <th>Restaurant</th>\n",
       "      <th>Address</th>\n",
       "    </tr>\n",
       "  </thead>\n",
       "  <tbody>\n",
       "    <tr>\n",
       "      <th>0</th>\n",
       "      <td>We got this delivered to our house in Washingt...</td>\n",
       "      <td>2024-08-31</td>\n",
       "      <td>5</td>\n",
       "      <td>Franklin Barbecue</td>\n",
       "      <td>900 E 11th St, Austin, TX 78702, USA</td>\n",
       "    </tr>\n",
       "    <tr>\n",
       "      <th>1</th>\n",
       "      <td>100/100 hands down the best bbq in the country...</td>\n",
       "      <td>2024-09-24</td>\n",
       "      <td>5</td>\n",
       "      <td>Franklin Barbecue</td>\n",
       "      <td>900 E 11th St, Austin, TX 78702, USA</td>\n",
       "    </tr>\n",
       "    <tr>\n",
       "      <th>2</th>\n",
       "      <td>Franklin Barbecue truly lives up to the hype! ...</td>\n",
       "      <td>2024-09-02</td>\n",
       "      <td>5</td>\n",
       "      <td>Franklin Barbecue</td>\n",
       "      <td>900 E 11th St, Austin, TX 78702, USA</td>\n",
       "    </tr>\n",
       "    <tr>\n",
       "      <th>3</th>\n",
       "      <td>Going to Franklin takes a level of commitment ...</td>\n",
       "      <td>2024-09-22</td>\n",
       "      <td>5</td>\n",
       "      <td>Franklin Barbecue</td>\n",
       "      <td>900 E 11th St, Austin, TX 78702, USA</td>\n",
       "    </tr>\n",
       "    <tr>\n",
       "      <th>4</th>\n",
       "      <td>Without a doubt the Greatest of All Time!\\n\\nB...</td>\n",
       "      <td>2024-09-17</td>\n",
       "      <td>5</td>\n",
       "      <td>Franklin Barbecue</td>\n",
       "      <td>900 E 11th St, Austin, TX 78702, USA</td>\n",
       "    </tr>\n",
       "  </tbody>\n",
       "</table>\n",
       "</div>"
      ],
      "text/plain": [
       "                                         Review Text standardized_date  \\\n",
       "0  We got this delivered to our house in Washingt...        2024-08-31   \n",
       "1  100/100 hands down the best bbq in the country...        2024-09-24   \n",
       "2  Franklin Barbecue truly lives up to the hype! ...        2024-09-02   \n",
       "3  Going to Franklin takes a level of commitment ...        2024-09-22   \n",
       "4  Without a doubt the Greatest of All Time!\\n\\nB...        2024-09-17   \n",
       "\n",
       "   cleaned_rating         Restaurant                               Address  \n",
       "0               5  Franklin Barbecue  900 E 11th St, Austin, TX 78702, USA  \n",
       "1               5  Franklin Barbecue  900 E 11th St, Austin, TX 78702, USA  \n",
       "2               5  Franklin Barbecue  900 E 11th St, Austin, TX 78702, USA  \n",
       "3               5  Franklin Barbecue  900 E 11th St, Austin, TX 78702, USA  \n",
       "4               5  Franklin Barbecue  900 E 11th St, Austin, TX 78702, USA  "
      ]
     },
     "execution_count": 3,
     "metadata": {},
     "output_type": "execute_result"
    }
   ],
   "source": [
    "import pandas as pd\n",
    "import re\n",
    "from bs4 import BeautifulSoup\n",
    "from datetime import datetime\n",
    "\n",
    "# Load the CSV file into a DataFrame\n",
    "csv_file = '../data/cleaned_restaurant_reviews.csv'\n",
    "df = pd.read_csv(csv_file)\n",
    "df.head()"
   ]
  },
  {
   "cell_type": "code",
   "execution_count": 4,
   "id": "b477f440",
   "metadata": {},
   "outputs": [],
   "source": [
    "reviews_with_rating_4_7 = df[df['cleaned_rating'] == 4]"
   ]
  },
  {
   "cell_type": "code",
   "execution_count": 12,
   "id": "b0c3e153",
   "metadata": {},
   "outputs": [
    {
     "name": "stdout",
     "output_type": "stream",
     "text": [
      "0      We got this delivered to our house in Washingt...\n",
      "1      100/100 hands down the best bbq in the country...\n",
      "2      Franklin Barbecue truly lives up to the hype! ...\n",
      "3      Going to Franklin takes a level of commitment ...\n",
      "4      Without a doubt the Greatest of All Time!\\n\\nB...\n",
      "5      I cannot share enough good things about this a...\n",
      "6      We came to Austin for a quick girls weekend an...\n",
      "7      We stayed here for a girls trip and it was abs...\n",
      "8      We love staying at Hotel San Jose. Immaculate ...\n",
      "9      100000/10 place. Couldn’t recommend enough! I ...\n",
      "40     We knew about Uchi because it's supposed to be...\n",
      "41     Great interesting sushi and Japanese inspired ...\n",
      "42     Always a complete pleasure eating here.   Serv...\n",
      "43     I’m not from Austin and almost everyone I aske...\n",
      "44     Lovely sushi place on South congress av. Huge ...\n",
      "55     Definitely a must try pizza joint! DEFINITELY ...\n",
      "56     Really nice Italian Submarine Sandwich. Ultra-...\n",
      "57     It's some of the best pizza I've had!\\nI was i...\n",
      "58     HOME SLICE HAS VEGAN PIZZA NOW (AND IT MIGHT B...\n",
      "59     recently tried the eggplant pizza at Home Slic...\n",
      "65     YUM!So many exciting creative menu options. Al...\n",
      "66     Finally went to Bouldin Creek Cafe for lunch a...\n",
      "67     Reuben sandwich at Bouldin Creek Cafe was real...\n",
      "68     Great place with a fun vibe and amazing menu.\\...\n",
      "69     The food and service were above any expectatio...\n",
      "110    Went here for our anniversary and our experien...\n",
      "111    I’ve been here multiple times and I have never...\n",
      "112    Truluck's Downtown in Austin is hands down my ...\n",
      "113    This was our first time at Truluck’s; it was a...\n",
      "114    Amazing experience from the minute you pull up...\n",
      "245    Cannot say enough good things about this place...\n",
      "246    Beware of this place. It’s a wolf in sheep’s c...\n",
      "247    Went here on a trip to Austin, so sad there is...\n",
      "248    We went to Casa de Luz last night and it was t...\n",
      "249    Definitely recommend! This is the first vegeta...\n",
      "Name: Review Text, dtype: object\n"
     ]
    }
   ],
   "source": [
    "print(reviews_with_rating_4_7['Review Text'])"
   ]
  },
  {
   "cell_type": "code",
   "execution_count": 8,
   "id": "9866dfdd",
   "metadata": {},
   "outputs": [
    {
     "data": {
      "text/plain": [
       "{'Review Text': 'Cannot say enough good things about this place. This is my most favorite place to eat in Austin. I love the atmosphere, the food, the workers, everything. I’ve eaten here countless times and it’s always been perfect. The food is high quality, unprocessed and all plant based whole foods. I tell everyone I know to come here. I’ve recently moved out of state and everytime I come back to Austin, this is where I go. They have a beautiful outdoor seating area where you are canopied by the trees. They also have a playground for the kiddos. Inside is a cafeteria like seating area with cozy lighting. They even sell their own cookbooks! This is truly a 10/10 place.',\n",
       " 'standardized_date': '2024-08-27',\n",
       " 'cleaned_rating': 5,\n",
       " 'Restaurant': 'Casa de Luz Village',\n",
       " 'Address': '1701 Toomey Rd, Austin, TX 78704, USA'}"
      ]
     },
     "execution_count": 8,
     "metadata": {},
     "output_type": "execute_result"
    }
   ],
   "source": [
    "df.iloc[245].to_dict()"
   ]
  },
  {
   "cell_type": "code",
   "execution_count": null,
   "id": "b01cf288-1805-4a2d-8f00-222e7425204a",
   "metadata": {},
   "outputs": [],
   "source": []
  }
 ],
 "metadata": {
  "kernelspec": {
   "display_name": "Python 3 (ipykernel)",
   "language": "python",
   "name": "python3"
  },
  "language_info": {
   "codemirror_mode": {
    "name": "ipython",
    "version": 3
   },
   "file_extension": ".py",
   "mimetype": "text/x-python",
   "name": "python",
   "nbconvert_exporter": "python",
   "pygments_lexer": "ipython3",
   "version": "3.9.13"
  }
 },
 "nbformat": 4,
 "nbformat_minor": 5
}
