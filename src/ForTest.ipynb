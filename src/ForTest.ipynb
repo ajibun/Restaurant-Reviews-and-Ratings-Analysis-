{
 "cells": [
  {
   "cell_type": "code",
   "execution_count": 5,
   "id": "346f6213",
   "metadata": {},
   "outputs": [
    {
     "name": "stdout",
     "output_type": "stream",
     "text": [
      "austin_restaurant_reviews.csv\n"
     ]
    },
    {
     "data": {
      "text/html": [
       "<div>\n",
       "<style scoped>\n",
       "    .dataframe tbody tr th:only-of-type {\n",
       "        vertical-align: middle;\n",
       "    }\n",
       "\n",
       "    .dataframe tbody tr th {\n",
       "        vertical-align: top;\n",
       "    }\n",
       "\n",
       "    .dataframe thead th {\n",
       "        text-align: right;\n",
       "    }\n",
       "</style>\n",
       "<table border=\"1\" class=\"dataframe\">\n",
       "  <thead>\n",
       "    <tr style=\"text-align: right;\">\n",
       "      <th></th>\n",
       "      <th>Restaurant</th>\n",
       "      <th>Address</th>\n",
       "      <th>Rating</th>\n",
       "      <th>Review Text</th>\n",
       "      <th>Review Rating</th>\n",
       "      <th>Review Time</th>\n",
       "    </tr>\n",
       "  </thead>\n",
       "  <tbody>\n",
       "    <tr>\n",
       "      <th>0</th>\n",
       "      <td>Franklin Barbecue</td>\n",
       "      <td>900 E 11th St, Austin, TX 78702, USA</td>\n",
       "      <td>4.7</td>\n",
       "      <td>We got this delivered to our house in Washingt...</td>\n",
       "      <td>5</td>\n",
       "      <td>a month ago</td>\n",
       "    </tr>\n",
       "    <tr>\n",
       "      <th>1</th>\n",
       "      <td>Franklin Barbecue</td>\n",
       "      <td>900 E 11th St, Austin, TX 78702, USA</td>\n",
       "      <td>4.7</td>\n",
       "      <td>100/100 hands down the best bbq in the country...</td>\n",
       "      <td>5</td>\n",
       "      <td>a week ago</td>\n",
       "    </tr>\n",
       "    <tr>\n",
       "      <th>2</th>\n",
       "      <td>Franklin Barbecue</td>\n",
       "      <td>900 E 11th St, Austin, TX 78702, USA</td>\n",
       "      <td>4.7</td>\n",
       "      <td>Franklin Barbecue truly lives up to the hype! ...</td>\n",
       "      <td>5</td>\n",
       "      <td>a month ago</td>\n",
       "    </tr>\n",
       "    <tr>\n",
       "      <th>3</th>\n",
       "      <td>Franklin Barbecue</td>\n",
       "      <td>900 E 11th St, Austin, TX 78702, USA</td>\n",
       "      <td>4.7</td>\n",
       "      <td>Going to Franklin takes a level of commitment ...</td>\n",
       "      <td>5</td>\n",
       "      <td>a week ago</td>\n",
       "    </tr>\n",
       "    <tr>\n",
       "      <th>4</th>\n",
       "      <td>Franklin Barbecue</td>\n",
       "      <td>900 E 11th St, Austin, TX 78702, USA</td>\n",
       "      <td>4.7</td>\n",
       "      <td>Without a doubt the Greatest of All Time!\\n\\nB...</td>\n",
       "      <td>5</td>\n",
       "      <td>2 weeks ago</td>\n",
       "    </tr>\n",
       "  </tbody>\n",
       "</table>\n",
       "</div>"
      ],
      "text/plain": [
       "          Restaurant                               Address  Rating  \\\n",
       "0  Franklin Barbecue  900 E 11th St, Austin, TX 78702, USA     4.7   \n",
       "1  Franklin Barbecue  900 E 11th St, Austin, TX 78702, USA     4.7   \n",
       "2  Franklin Barbecue  900 E 11th St, Austin, TX 78702, USA     4.7   \n",
       "3  Franklin Barbecue  900 E 11th St, Austin, TX 78702, USA     4.7   \n",
       "4  Franklin Barbecue  900 E 11th St, Austin, TX 78702, USA     4.7   \n",
       "\n",
       "                                         Review Text  Review Rating  \\\n",
       "0  We got this delivered to our house in Washingt...              5   \n",
       "1  100/100 hands down the best bbq in the country...              5   \n",
       "2  Franklin Barbecue truly lives up to the hype! ...              5   \n",
       "3  Going to Franklin takes a level of commitment ...              5   \n",
       "4  Without a doubt the Greatest of All Time!\\n\\nB...              5   \n",
       "\n",
       "   Review Time  \n",
       "0  a month ago  \n",
       "1   a week ago  \n",
       "2  a month ago  \n",
       "3   a week ago  \n",
       "4  2 weeks ago  "
      ]
     },
     "execution_count": 5,
     "metadata": {},
     "output_type": "execute_result"
    }
   ],
   "source": [
    "import pandas as pd\n",
    "\n",
    "csv_file = 'austin_restaurant_reviews.csv'\n",
    "print(csv_file)\n",
    "\n",
    "df = pd.read_csv(csv_file)\n",
    "df.head()"
   ]
  },
  {
   "cell_type": "code",
   "execution_count": null,
   "id": "b477f440",
   "metadata": {},
   "outputs": [],
   "source": []
  },
  {
   "cell_type": "code",
   "execution_count": null,
   "id": "b0c3e153",
   "metadata": {},
   "outputs": [],
   "source": []
  }
 ],
 "metadata": {
  "kernelspec": {
   "display_name": "Python 3 (ipykernel)",
   "language": "python",
   "name": "python3"
  },
  "language_info": {
   "codemirror_mode": {
    "name": "ipython",
    "version": 3
   },
   "file_extension": ".py",
   "mimetype": "text/x-python",
   "name": "python",
   "nbconvert_exporter": "python",
   "pygments_lexer": "ipython3",
   "version": "3.9.13"
  }
 },
 "nbformat": 4,
 "nbformat_minor": 5
}
