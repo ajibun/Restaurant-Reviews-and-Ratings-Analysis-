{
 "cells": [
  {
   "cell_type": "code",
   "execution_count": 18,
   "id": "1a363dc4",
   "metadata": {
    "scrolled": true
   },
   "outputs": [
    {
     "name": "stderr",
     "output_type": "stream",
     "text": [
      "[nltk_data] Downloading package vader_lexicon to\n",
      "[nltk_data]     C:\\Users\\15735\\AppData\\Roaming\\nltk_data...\n",
      "[nltk_data]   Package vader_lexicon is already up-to-date!\n"
     ]
    },
    {
     "data": {
      "text/html": [
       "<div>\n",
       "<style scoped>\n",
       "    .dataframe tbody tr th:only-of-type {\n",
       "        vertical-align: middle;\n",
       "    }\n",
       "\n",
       "    .dataframe tbody tr th {\n",
       "        vertical-align: top;\n",
       "    }\n",
       "\n",
       "    .dataframe thead th {\n",
       "        text-align: right;\n",
       "    }\n",
       "</style>\n",
       "<table border=\"1\" class=\"dataframe\">\n",
       "  <thead>\n",
       "    <tr style=\"text-align: right;\">\n",
       "      <th></th>\n",
       "      <th>Review Text</th>\n",
       "      <th>cleaned_rating</th>\n",
       "      <th>sentiment_score</th>\n",
       "      <th>sentiment</th>\n",
       "    </tr>\n",
       "  </thead>\n",
       "  <tbody>\n",
       "    <tr>\n",
       "      <th>0</th>\n",
       "      <td>We got this delivered to our house in Washingt...</td>\n",
       "      <td>5</td>\n",
       "      <td>0.9099</td>\n",
       "      <td>Positive</td>\n",
       "    </tr>\n",
       "    <tr>\n",
       "      <th>1</th>\n",
       "      <td>100/100 hands down the best bbq in the country...</td>\n",
       "      <td>5</td>\n",
       "      <td>0.9674</td>\n",
       "      <td>Positive</td>\n",
       "    </tr>\n",
       "    <tr>\n",
       "      <th>2</th>\n",
       "      <td>Franklin Barbecue truly lives up to the hype! ...</td>\n",
       "      <td>5</td>\n",
       "      <td>0.9840</td>\n",
       "      <td>Positive</td>\n",
       "    </tr>\n",
       "    <tr>\n",
       "      <th>3</th>\n",
       "      <td>Going to Franklin takes a level of commitment ...</td>\n",
       "      <td>5</td>\n",
       "      <td>0.7646</td>\n",
       "      <td>Positive</td>\n",
       "    </tr>\n",
       "    <tr>\n",
       "      <th>4</th>\n",
       "      <td>Without a doubt the Greatest of All Time!\\n\\nB...</td>\n",
       "      <td>5</td>\n",
       "      <td>0.4983</td>\n",
       "      <td>Positive</td>\n",
       "    </tr>\n",
       "  </tbody>\n",
       "</table>\n",
       "</div>"
      ],
      "text/plain": [
       "                                         Review Text  cleaned_rating  \\\n",
       "0  We got this delivered to our house in Washingt...               5   \n",
       "1  100/100 hands down the best bbq in the country...               5   \n",
       "2  Franklin Barbecue truly lives up to the hype! ...               5   \n",
       "3  Going to Franklin takes a level of commitment ...               5   \n",
       "4  Without a doubt the Greatest of All Time!\\n\\nB...               5   \n",
       "\n",
       "   sentiment_score sentiment  \n",
       "0           0.9099  Positive  \n",
       "1           0.9674  Positive  \n",
       "2           0.9840  Positive  \n",
       "3           0.7646  Positive  \n",
       "4           0.4983  Positive  "
      ]
     },
     "execution_count": 18,
     "metadata": {},
     "output_type": "execute_result"
    }
   ],
   "source": [
    "import pandas as pd\n",
    "from nltk.sentiment.vader import SentimentIntensityAnalyzer\n",
    "import nltk\n",
    "import warnings\n",
    "warnings.filterwarnings('ignore')\n",
    "\n",
    "# Ensure the VADER lexicon is downloaded (only needs to be done once)\n",
    "nltk.download('vader_lexicon')\n",
    "\n",
    "# Load the cleaned CSV file into a DataFrame\n",
    "csv_file = '../data/cleaned_restaurant_reviews.csv'\n",
    "df = pd.read_csv(csv_file)\n",
    "\n",
    "# Initialize VADER sentiment intensity analyzer\n",
    "analyzer = SentimentIntensityAnalyzer()\n",
    "\n",
    "# Define a function to get the compound sentiment score\n",
    "def get_vader_sentiment(text):\n",
    "    scores = analyzer.polarity_scores(text)\n",
    "    # Return the compound sentiment score\n",
    "    return scores['compound']\n",
    "\n",
    "# Apply the function to the 'Review Text' column\n",
    "df['sentiment_score'] = df['Review Text'].apply(get_vader_sentiment)\n",
    "\n",
    "# Classify the sentiment as positive, negative, or neutral\n",
    "def classify_sentiment(score):\n",
    "    if score > 0.05:  # Positive sentiment threshold\n",
    "        return 'Positive'\n",
    "    elif score < -0.05:  # Negative sentiment threshold\n",
    "        return 'Negative'\n",
    "    else:\n",
    "        return 'Neutral'\n",
    "\n",
    "# # Apply the classification function\n",
    "df['sentiment'] = df['sentiment_score'].apply(classify_sentiment)\n",
    "\n",
    "# # Save the updated DataFrame into a new CSV file (optional)\n",
    "df.to_csv('vader_sentiment_analyzed_reviews.csv', index=False)\n",
    "\n",
    "# # Preview the updated DataFrame\n",
    "df[['Review Text', 'cleaned_rating','sentiment_score', 'sentiment']].head()\n"
   ]
  },
  {
   "cell_type": "code",
   "execution_count": null,
   "id": "55075b7a",
   "metadata": {},
   "outputs": [],
   "source": [
    " \n"
   ]
  },
  {
   "cell_type": "code",
   "execution_count": null,
   "id": "38728555",
   "metadata": {},
   "outputs": [],
   "source": []
  }
 ],
 "metadata": {
  "kernelspec": {
   "display_name": "Python 3 (ipykernel)",
   "language": "python",
   "name": "python3"
  },
  "language_info": {
   "codemirror_mode": {
    "name": "ipython",
    "version": 3
   },
   "file_extension": ".py",
   "mimetype": "text/x-python",
   "name": "python",
   "nbconvert_exporter": "python",
   "pygments_lexer": "ipython3",
   "version": "3.9.13"
  }
 },
 "nbformat": 4,
 "nbformat_minor": 5
}
