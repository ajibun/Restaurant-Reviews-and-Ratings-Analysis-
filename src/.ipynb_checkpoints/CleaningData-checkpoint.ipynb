{
 "cells": [
  {
   "cell_type": "code",
   "execution_count": 4,
   "id": "5b68e734",
   "metadata": {},
   "outputs": [],
   "source": [
    "import pandas as pd\n",
    "import re\n",
    "from bs4 import BeautifulSoup\n",
    "from datetime import datetime"
   ]
  },
  {
   "cell_type": "code",
   "execution_count": 5,
   "id": "592200ae",
   "metadata": {},
   "outputs": [],
   "source": [
    "# Function to clean the review text\n",
    "def clean_text(text):\n",
    "    # Remove HTML tags\n",
    "    text = BeautifulSoup(text, \"html.parser\").get_text()\n",
    "    # Remove unnecessary characters like special symbols\n",
    "    text = re.sub(r'[^A-Za-z0-9\\s]+', '', text)  # Keep only alphanumeric characters and spaces\n",
    "    # Convert to lowercase\n",
    "    text = text.lower()\n",
    "    return text\n",
    "\n",
    "# Function to standardize the review dates\n",
    "def standardize_date(date):\n",
    "    try:\n",
    "        return pd.to_datetime(date, errors='coerce')  # 'coerce' returns NaT for invalid dates\n",
    "    except:\n",
    "        return None\n",
    "\n",
    "# Function to clean restaurant ratings (ensure ratings are between 1 and 5)\n",
    "def clean_rating(rating):\n",
    "    try:\n",
    "        if pd.isna(rating):  # Handle missing ratings\n",
    "            return None\n",
    "        elif 1 <= rating <= 5:  # Ensure rating is within the valid range\n",
    "            return rating\n",
    "        else:\n",
    "            return None  # Handle out-of-range ratings\n",
    "    except:\n",
    "        return None"
   ]
  },
  {
   "cell_type": "code",
   "execution_count": 6,
   "id": "016f1371",
   "metadata": {},
   "outputs": [],
   "source": [
    "# Load the CSV file into a DataFrame\n",
    "csv_file = '../data/austin_restaurant_reviews.csv'\n",
    "df = pd.read_csv(csv_file)\n"
   ]
  },
  {
   "cell_type": "code",
   "execution_count": 15,
   "id": "0d7a7e45",
   "metadata": {},
   "outputs": [
    {
     "name": "stdout",
     "output_type": "stream",
     "text": [
      "Shape of reviews DataFrame: (300, 6)\n",
      "Shape of additional data DataFrame: (60, 1)\n",
      "DataFrames do not have the same number of rows. Cannot add column directly.\n",
      "Updated CSV saved as 'updated_austin_restaurant_reviews.csv'.\n"
     ]
    }
   ],
   "source": [
    "\n",
    "\n",
    "# Step 1: Load the existing CSV file into a DataFrame\n",
    "\n",
    "# Step 2: Load the data from the data.pkl file\n",
    "pkl_file_path = '../data/data.pkl'\n",
    "df_additional_data = pd.read_pickle(pkl_file_path)\n",
    "\n",
    "# Step 3: Check the shape of both DataFrames to ensure alignment\n",
    "print(\"Shape of reviews DataFrame:\", df.shape)\n",
    "print(\"Shape of additional data DataFrame:\", df_additional_data.shape)\n",
    "\n",
    "# Assuming you want to add a column from df_additional_data to df\n",
    "# Ensure that df_additional_data contains a column that can be used to merge (like 'Restaurant ID' or similar)\n",
    "# For example, let's say we want to add a column named 'New_Column' from df_additional_data\n",
    "\n",
    "\n",
    "# Option B: If the DataFrames align and you simply want to add a column\n",
    "# Ensure both DataFrames have the same number of rows before using this method\n",
    "if df.shape[0] == df_additional_data.shape[0]:\n",
    "    df['Review_Date'] = df_additional_data['New_Column']  \n",
    "else:\n",
    "    print(\"DataFrames do not have the same number of rows. Cannot add column directly.\")\n",
    "\n",
    "# Step 4: Save the updated DataFrame back to a CSV file\n",
    "df.to_csv('updated_austin_restaurant_reviews.csv', index=False)\n",
    "\n",
    "print(\"Updated CSV saved as 'updated_austin_restaurant_reviews.csv'.\")\n"
   ]
  },
  {
   "cell_type": "code",
   "execution_count": 16,
   "id": "e745f91f",
   "metadata": {},
   "outputs": [
    {
     "data": {
      "text/html": [
       "<div>\n",
       "<style scoped>\n",
       "    .dataframe tbody tr th:only-of-type {\n",
       "        vertical-align: middle;\n",
       "    }\n",
       "\n",
       "    .dataframe tbody tr th {\n",
       "        vertical-align: top;\n",
       "    }\n",
       "\n",
       "    .dataframe thead th {\n",
       "        text-align: right;\n",
       "    }\n",
       "</style>\n",
       "<table border=\"1\" class=\"dataframe\">\n",
       "  <thead>\n",
       "    <tr style=\"text-align: right;\">\n",
       "      <th></th>\n",
       "      <th>details</th>\n",
       "    </tr>\n",
       "  </thead>\n",
       "  <tbody>\n",
       "    <tr>\n",
       "      <th>0</th>\n",
       "      <td>{'formatted_address': '900 E 11th St, Austin, ...</td>\n",
       "    </tr>\n",
       "    <tr>\n",
       "      <th>1</th>\n",
       "      <td>{'formatted_address': '1316 S Congress Ave, Au...</td>\n",
       "    </tr>\n",
       "    <tr>\n",
       "      <th>2</th>\n",
       "      <td>{'formatted_address': '801 Red River St, Austi...</td>\n",
       "    </tr>\n",
       "    <tr>\n",
       "      <th>3</th>\n",
       "      <td>{'formatted_address': '303 Red River St, Austi...</td>\n",
       "    </tr>\n",
       "    <tr>\n",
       "      <th>4</th>\n",
       "      <td>{'formatted_address': '1917 Manor Rd, Austin, ...</td>\n",
       "    </tr>\n",
       "  </tbody>\n",
       "</table>\n",
       "</div>"
      ],
      "text/plain": [
       "                                             details\n",
       "0  {'formatted_address': '900 E 11th St, Austin, ...\n",
       "1  {'formatted_address': '1316 S Congress Ave, Au...\n",
       "2  {'formatted_address': '801 Red River St, Austi...\n",
       "3  {'formatted_address': '303 Red River St, Austi...\n",
       "4  {'formatted_address': '1917 Manor Rd, Austin, ..."
      ]
     },
     "execution_count": 16,
     "metadata": {},
     "output_type": "execute_result"
    }
   ],
   "source": [
    "dfp = pd.read_pickle('../data/data.pkl')\n",
    "dfp.head()"
   ]
  },
  {
   "cell_type": "code",
   "execution_count": 17,
   "id": "86eae449",
   "metadata": {},
   "outputs": [
    {
     "data": {
      "text/plain": [
       "{'details': {'formatted_address': '900 E 11th St, Austin, TX 78702, USA',\n",
       "  'name': 'Franklin Barbecue',\n",
       "  'price_level': 2,\n",
       "  'rating': 4.7,\n",
       "  'reviews': [{'author_name': 'Gemma Bunyakiat Petri',\n",
       "    'author_url': 'https://www.google.com/maps/contrib/117324003624550463298/reviews',\n",
       "    'language': 'en',\n",
       "    'original_language': 'en',\n",
       "    'profile_photo_url': 'https://lh3.googleusercontent.com/a-/ALV-UjV263u7UnJgIPNwza2_sPJrU7mZ5dbFPEAMpTIoeqgVVp-ZoAR7sQ=s128-c0x00000000-cc-rp-mo-ba5',\n",
       "    'rating': 5,\n",
       "    'relative_time_description': 'a month ago',\n",
       "    'text': \"We got this delivered to our house in Washington DC. We went to Texas last week and wanted to try this place. However, we heard that the line was very long and we didn't have time to do that. So we ordered it to deliver to our house. It took about a week to get what we ordered and we were very happy with them. We got a brisket, sausages and a barbecue sauce. The package was still cold when delivered. Everything was delicious. Their barbecue sauce was amazing.\",\n",
       "    'time': 1725127412,\n",
       "    'translated': False},\n",
       "   {'author_name': 'Tasty Yet Healthy',\n",
       "    'author_url': 'https://www.google.com/maps/contrib/115414792550127995032/reviews',\n",
       "    'language': 'en',\n",
       "    'original_language': 'en',\n",
       "    'profile_photo_url': 'https://lh3.googleusercontent.com/a-/ALV-UjXsLYXZrQSmqjM0K-nTepaG_RtSCkLhzzGpF0R6LHbnG2K70I0=s128-c0x00000000-cc-rp-mo-ba5',\n",
       "    'rating': 5,\n",
       "    'relative_time_description': 'a week ago',\n",
       "    'text': '100/100 hands down the best bbq in the country. We have explored a lot and we would wait again for 4 hours to eat here. We arrived at 7 am on a Tuesday morning.  We were the first in the parking lot. But when we got to the line, 4 others had beaten us there.\\nBrisket, Ribs, and turkey were like no other. The sausage was good. And can’t forget the pulled pork. The spicy bbq sauce is the best.\\nNext time I wouldn’t get any sides. We tried them all, but when the meat is so good you don’t even need them.\\nAnd don’t forget the bourbon banana pie 😋😋😋\\nWe are from out of state and got a brisket to take home to our friends. It’s vacuum sealed.\\nYes this place is worth the trip, price, and wait!!',\n",
       "    'time': 1727201997,\n",
       "    'translated': False},\n",
       "   {'author_name': 'D Bui (SaavyShopper)',\n",
       "    'author_url': 'https://www.google.com/maps/contrib/102410633393772581912/reviews',\n",
       "    'language': 'en',\n",
       "    'original_language': 'en',\n",
       "    'profile_photo_url': 'https://lh3.googleusercontent.com/a/ACg8ocIpHdywslIanTcuegL_a4xHXcCem60p_NeyQZR0HNUdlznpQA=s128-c0x00000000-cc-rp-mo-ba5',\n",
       "    'rating': 5,\n",
       "    'relative_time_description': 'a month ago',\n",
       "    'text': \"Franklin Barbecue truly lives up to the hype! The brisket was melt-in-your-mouth tender with a perfect smoky flavor that made it absolutely worth the wait. The ribs and sausage were equally impressive, each bite packed with rich, savory goodness. The sides, especially the potato salad and coleslaw, were fresh and paired beautifully with the meats. The staff was friendly and kept the line moving smoothly. If you’re a barbecue lover, Franklin Barbecue is a must-visit. It's an experience you won’t forget!\",\n",
       "    'time': 1725236925,\n",
       "    'translated': False},\n",
       "   {'author_name': 'Ross Farquhar',\n",
       "    'author_url': 'https://www.google.com/maps/contrib/116068033603871521305/reviews',\n",
       "    'language': 'en',\n",
       "    'original_language': 'en',\n",
       "    'profile_photo_url': 'https://lh3.googleusercontent.com/a-/ALV-UjX5vX3MLf5qyU31lhVdp2aLJ3mMa0Dx0qFc699OZ3xUUSsF0cjm=s128-c0x00000000-cc-rp-mo-ba5',\n",
       "    'rating': 5,\n",
       "    'relative_time_description': 'a week ago',\n",
       "    'text': \"Going to Franklin takes a level of commitment that a platter of barbecued meats can't generally command. And yet day after day throngs of people arrive hours before it opens in order to line up and grab a pound of brisket before they sell out (they always sell out). So that should tell you all you need to know about how good the food is.\\n\\nInstead, I'll offer you these tips that I gathered from my three hours queuing and fifteen minutes of eating at Franklin one Sunday in September:\\n\\n- We arrived an hour before opening and wished we'd made it thirty minutes before as we narrowly missed the area in the line that was shaded from the sun. Whenever you're thinking of getting there, aim for thirty minutes before then... you'll inevitably be glad you did.\\n- Bring a bottle of water, a portable charger for your phone and something to read or listen to.\\n- The brisket, beef rib (when available) and pork rib are, in my opinion, the must order items.\\n- The sides are nothing to write home about and can easily be ignored without missing out on anything.\\n- You can go in the middle door to the lobby and buy beers or soft drinks and bring them back to your spot in the line, delighting your friends with your ingenuity and generosity.\\n\\nFranklin is worth it - honestly - but preparing for the experience with military precision can eliminate some of the annoying friction of it.\",\n",
       "    'time': 1727041818,\n",
       "    'translated': False},\n",
       "   {'author_name': 'Joe Walters',\n",
       "    'author_url': 'https://www.google.com/maps/contrib/117867581695238460781/reviews',\n",
       "    'language': 'en',\n",
       "    'original_language': 'en',\n",
       "    'profile_photo_url': 'https://lh3.googleusercontent.com/a-/ALV-UjXhfsnbxG1Ie7EdsIgA883LK_YwEFax3X1Zbmc-zcGjEA0ujWmDJw=s128-c0x00000000-cc-rp-mo-ba4',\n",
       "    'rating': 5,\n",
       "    'relative_time_description': '2 weeks ago',\n",
       "    'text': 'Without a doubt the Greatest of All Time!\\n\\nBelieve the hype. Dig the craft. Drink the Beer. Eat the BBQ! Live the dream.\\n\\nTransformative slow smoked meats. Brisket is truly the finest in the world. Turkey will blow your mind. The sausages are exceptional and unique.',\n",
       "    'time': 1726585483,\n",
       "    'translated': False}]}}"
      ]
     },
     "execution_count": 17,
     "metadata": {},
     "output_type": "execute_result"
    }
   ],
   "source": [
    "dfp.iloc[0].to_dict()"
   ]
  },
  {
   "cell_type": "code",
   "execution_count": null,
   "id": "9ed6e9c6",
   "metadata": {},
   "outputs": [],
   "source": [
    "# Function to extract and organize reviews for each restaurant\n",
    "def collect_reviews(d):\n",
    "    reviews_list = []\n",
    "    \n",
    "    for details in d:\n",
    "        if details:\n",
    "            reviews = details.get('reviews', [])\n",
    "            for review in reviews:\n",
    "                reviews_list.append({\n",
    "                    'Restaurant': details.get('name', 'Unknown'),\n",
    "                    'Address': details.get('formatted_address', 'Unknown'),\n",
    "                    'Rating': details.get('rating', 'No rating provided'),\n",
    "                    'Review Text': review.get('text', 'No review text available'),\n",
    "                    'Review Rating': review.get('rating', 'No review rating provided'),\n",
    "                    'Review Time': review.get('relative_time_description', 'No time information')\n",
    "                    'Time': review.get('time', None)\n",
    "                })\n",
    "    \n",
    "    return [reviews_list, detailed_data]"
   ]
  },
  {
   "cell_type": "code",
   "execution_count": null,
   "id": "6e0b4afb",
   "metadata": {},
   "outputs": [],
   "source": [
    "# Apply the cleaning functions to the DataFrame\n",
    "df['cleaned_review'] = df['Review Text'].apply(clean_text)           # Clean review text\n",
    "df['standardized_date'] = df['Review Date'].apply(standardize_date)  # Standardize review date\n",
    "df['cleaned_rating'] = df['Rating'].apply(clean_rating)              # Clean and standardize ratings\n",
    "\n",
    "# Handle missing data\n",
    "# Option 1: Drop rows with any missing data\n",
    "df_cleaned = df.dropna(subset=['cleaned_review', 'standardized_date', 'cleaned_rating'])\n",
    "\n",
    "# Option 2: You can choose to fill missing ratings with the mean (comment/uncomment as per need)\n",
    "# df['cleaned_rating'] = df['cleaned_rating'].fillna(df['cleaned_rating'].mean())\n",
    "\n",
    "# Organize the cleaned data into a new DataFrame\n",
    "df_cleaned = df[['cleaned_review', 'standardized_date', 'cleaned_rating', 'Restaurant', 'Location']]\n",
    "\n",
    "# Save the cleaned DataFrame into a new CSV file\n",
    "df_cleaned.to_csv('cleaned_restaurant_reviews.csv', index=False)\n",
    "\n",
    "# Preview the final cleaned data\n",
    "print(df_cleaned.head())\n"
   ]
  }
 ],
 "metadata": {
  "kernelspec": {
   "display_name": "Python 3 (ipykernel)",
   "language": "python",
   "name": "python3"
  },
  "language_info": {
   "codemirror_mode": {
    "name": "ipython",
    "version": 3
   },
   "file_extension": ".py",
   "mimetype": "text/x-python",
   "name": "python",
   "nbconvert_exporter": "python",
   "pygments_lexer": "ipython3",
   "version": "3.9.13"
  }
 },
 "nbformat": 4,
 "nbformat_minor": 5
}
